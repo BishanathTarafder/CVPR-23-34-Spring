{
 "cells": [
  {
   "cell_type": "code",
   "execution_count": null,
   "id": "ecdf71b8",
   "metadata": {},
   "outputs": [],
   "source": [
    "#Tasks:\n",
    "\n",
    "#List Operations:\n",
    "\n",
    "# Create a list of integers containing numbers from 1 to 10\n",
    "numbers = list(range(5, 20))\n",
    "\n",
    "# Append the square of each number to the list\n",
    "for num in numbers:\n",
    "    numbers.append(num ** 2)\n",
    "\n",
    "# Find and print the sum of all elements in the list\n",
    "sum_of_elements = sum(numbers)\n",
    "print(\"Sum of all elements in the list:\", sum_of_elements)\n"
   ]
  },
  {
   "cell_type": "code",
   "execution_count": null,
   "id": "aeb4253a",
   "metadata": {},
   "outputs": [],
   "source": [
    "#Tuple Operations:\n",
    "\n",
    "# Create a tuple containing the first five even numbers\n",
    "even_numbers = (2, 4, 6, 8, 10)\n",
    "\n",
    "# Find and print the product of all elements in the tuple\n",
    "product = 1\n",
    "for num in even_numbers:\n",
    "    product *= num\n",
    "\n",
    "print(\"Product of all elements in the tuple:\", product)"
   ]
  },
  {
   "cell_type": "code",
   "execution_count": null,
   "id": "2bbf3297",
   "metadata": {},
   "outputs": [],
   "source": [
    "#Set Operations:\n",
    "\n",
    "# Create two sets of odd numbers between 1 to 10\n",
    "set1 = {1, 3, 5, 7, 9}\n",
    "set2 = {1, 3, 5, 7}\n",
    "\n",
    "# Find and print the union of the two sets\n",
    "union_set = set1.union(set2)\n",
    "print(\"Union of the two sets:\", union_set)\n",
    "\n",
    "# Find and print the intersection of the two sets\n",
    "intersection_set = set1.intersection(set2)\n",
    "print(\"Intersection of the two sets:\", intersection_set)"
   ]
  },
  {
   "cell_type": "code",
   "execution_count": null,
   "id": "6c384b29",
   "metadata": {},
   "outputs": [],
   "source": [
    "#Dictionary Operations:\n",
    "\n",
    "# Create a dictionary where keys are the first five lowercase alphabets \n",
    "# and values are their respective ASCII values\n",
    "ascii_dict = {}\n",
    "for char in 'abcde':\n",
    "    ascii_dict[char] = ord(char)\n",
    "\n",
    "# Print the dictionary\n",
    "print(\"Dictionary where keys are lowercase alphabets and values are their respective ASCII values:\")\n",
    "print(ascii_dict)"
   ]
  },
  {
   "cell_type": "code",
   "execution_count": null,
   "id": "2d605d83",
   "metadata": {},
   "outputs": [],
   "source": [
    "#Functional Programming:\n",
    "\n",
    "# Define a function square(x) that returns the square of x\n",
    "def square(x):\n",
    "    return x ** 2\n",
    "\n",
    "# Use the map function to apply the square function to each element in a list of integers from 1 to 10\n",
    "numbers = list(range(5, 20))\n",
    "squared_numbers = list(map(square, numbers))\n",
    "\n",
    "# Print the result\n",
    "print(\"Original List:\", numbers)\n",
    "print(\"Squared List:\", squared_numbers)\n"
   ]
  },
  {
   "cell_type": "code",
   "execution_count": null,
   "id": "e4449b4f",
   "metadata": {},
   "outputs": [],
   "source": []
  }
 ],
 "metadata": {
  "kernelspec": {
   "display_name": "Python 3 (ipykernel)",
   "language": "python",
   "name": "python3"
  },
  "language_info": {
   "codemirror_mode": {
    "name": "ipython",
    "version": 3
   },
   "file_extension": ".py",
   "mimetype": "text/x-python",
   "name": "python",
   "nbconvert_exporter": "python",
   "pygments_lexer": "ipython3",
   "version": "3.11.5"
  }
 },
 "nbformat": 4,
 "nbformat_minor": 5
}
